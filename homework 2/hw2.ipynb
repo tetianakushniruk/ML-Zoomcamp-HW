{
 "cells": [
  {
   "cell_type": "code",
   "execution_count": 1,
   "id": "09df5879",
   "metadata": {},
   "outputs": [],
   "source": [
    "import pandas as pd\n",
    "import numpy as np\n",
    "import matplotlib.pyplot as plt\n",
    "import seaborn as sns"
   ]
  },
  {
   "cell_type": "code",
   "execution_count": 2,
   "id": "37f16d5e",
   "metadata": {},
   "outputs": [
    {
     "name": "stdout",
     "output_type": "stream",
     "text": [
      "\n",
      "Saved under housing (9).csv\n"
     ]
    }
   ],
   "source": [
    "!python -m wget https://raw.githubusercontent.com/alexeygrigorev/datasets/master/housing.csv"
   ]
  },
  {
   "cell_type": "markdown",
   "id": "e005e6cc",
   "metadata": {},
   "source": [
    "### EDA"
   ]
  },
  {
   "cell_type": "code",
   "execution_count": 3,
   "id": "d1b74e89",
   "metadata": {},
   "outputs": [
    {
     "data": {
      "text/html": [
       "<div>\n",
       "<style scoped>\n",
       "    .dataframe tbody tr th:only-of-type {\n",
       "        vertical-align: middle;\n",
       "    }\n",
       "\n",
       "    .dataframe tbody tr th {\n",
       "        vertical-align: top;\n",
       "    }\n",
       "\n",
       "    .dataframe thead th {\n",
       "        text-align: right;\n",
       "    }\n",
       "</style>\n",
       "<table border=\"1\" class=\"dataframe\">\n",
       "  <thead>\n",
       "    <tr style=\"text-align: right;\">\n",
       "      <th></th>\n",
       "      <th>longitude</th>\n",
       "      <th>latitude</th>\n",
       "      <th>housing_median_age</th>\n",
       "      <th>total_rooms</th>\n",
       "      <th>total_bedrooms</th>\n",
       "      <th>population</th>\n",
       "      <th>households</th>\n",
       "      <th>median_income</th>\n",
       "      <th>median_house_value</th>\n",
       "      <th>ocean_proximity</th>\n",
       "    </tr>\n",
       "  </thead>\n",
       "  <tbody>\n",
       "    <tr>\n",
       "      <th>0</th>\n",
       "      <td>-122.23</td>\n",
       "      <td>37.88</td>\n",
       "      <td>41.0</td>\n",
       "      <td>880.0</td>\n",
       "      <td>129.0</td>\n",
       "      <td>322.0</td>\n",
       "      <td>126.0</td>\n",
       "      <td>8.3252</td>\n",
       "      <td>452600.0</td>\n",
       "      <td>NEAR BAY</td>\n",
       "    </tr>\n",
       "    <tr>\n",
       "      <th>1</th>\n",
       "      <td>-122.22</td>\n",
       "      <td>37.86</td>\n",
       "      <td>21.0</td>\n",
       "      <td>7099.0</td>\n",
       "      <td>1106.0</td>\n",
       "      <td>2401.0</td>\n",
       "      <td>1138.0</td>\n",
       "      <td>8.3014</td>\n",
       "      <td>358500.0</td>\n",
       "      <td>NEAR BAY</td>\n",
       "    </tr>\n",
       "    <tr>\n",
       "      <th>2</th>\n",
       "      <td>-122.24</td>\n",
       "      <td>37.85</td>\n",
       "      <td>52.0</td>\n",
       "      <td>1467.0</td>\n",
       "      <td>190.0</td>\n",
       "      <td>496.0</td>\n",
       "      <td>177.0</td>\n",
       "      <td>7.2574</td>\n",
       "      <td>352100.0</td>\n",
       "      <td>NEAR BAY</td>\n",
       "    </tr>\n",
       "    <tr>\n",
       "      <th>3</th>\n",
       "      <td>-122.25</td>\n",
       "      <td>37.85</td>\n",
       "      <td>52.0</td>\n",
       "      <td>1274.0</td>\n",
       "      <td>235.0</td>\n",
       "      <td>558.0</td>\n",
       "      <td>219.0</td>\n",
       "      <td>5.6431</td>\n",
       "      <td>341300.0</td>\n",
       "      <td>NEAR BAY</td>\n",
       "    </tr>\n",
       "    <tr>\n",
       "      <th>4</th>\n",
       "      <td>-122.25</td>\n",
       "      <td>37.85</td>\n",
       "      <td>52.0</td>\n",
       "      <td>1627.0</td>\n",
       "      <td>280.0</td>\n",
       "      <td>565.0</td>\n",
       "      <td>259.0</td>\n",
       "      <td>3.8462</td>\n",
       "      <td>342200.0</td>\n",
       "      <td>NEAR BAY</td>\n",
       "    </tr>\n",
       "  </tbody>\n",
       "</table>\n",
       "</div>"
      ],
      "text/plain": [
       "   longitude  latitude  housing_median_age  total_rooms  total_bedrooms  \\\n",
       "0    -122.23     37.88                41.0        880.0           129.0   \n",
       "1    -122.22     37.86                21.0       7099.0          1106.0   \n",
       "2    -122.24     37.85                52.0       1467.0           190.0   \n",
       "3    -122.25     37.85                52.0       1274.0           235.0   \n",
       "4    -122.25     37.85                52.0       1627.0           280.0   \n",
       "\n",
       "   population  households  median_income  median_house_value ocean_proximity  \n",
       "0       322.0       126.0         8.3252            452600.0        NEAR BAY  \n",
       "1      2401.0      1138.0         8.3014            358500.0        NEAR BAY  \n",
       "2       496.0       177.0         7.2574            352100.0        NEAR BAY  \n",
       "3       558.0       219.0         5.6431            341300.0        NEAR BAY  \n",
       "4       565.0       259.0         3.8462            342200.0        NEAR BAY  "
      ]
     },
     "execution_count": 3,
     "metadata": {},
     "output_type": "execute_result"
    }
   ],
   "source": [
    "data = pd.read_csv('housing.csv')\n",
    "data.head()"
   ]
  },
  {
   "cell_type": "code",
   "execution_count": 4,
   "id": "a822eb6d",
   "metadata": {},
   "outputs": [
    {
     "data": {
      "image/png": "[encoded data removed]",
      "text/plain": [
       "<Figure size 640x480 with 1 Axes>"
      ]
     },
     "metadata": {},
     "output_type": "display_data"
    }
   ],
   "source": [
    "sns.histplot(data['median_house_value'], kde=True);"
   ]
  },
  {
   "cell_type": "markdown",
   "id": "120e84f1",
   "metadata": {},
   "source": [
    "### Preparing the dataset"
   ]
  },
  {
   "cell_type": "code",
   "execution_count": 5,
   "id": "ae6611f4",
   "metadata": {},
   "outputs": [],
   "source": [
    "filtered_data = data.copy()\n",
    "filtered_data = filtered_data[filtered_data['ocean_proximity'].isin(['<1H OCEAN', 'INLAND'])]"
   ]
  },
  {
   "cell_type": "code",
   "execution_count": 6,
   "id": "b27bac0b",
   "metadata": {},
   "outputs": [],
   "source": [
    "filtered_data = filtered_data[['latitude',\n",
    "                                 'longitude',\n",
    "                                 'housing_median_age',\n",
    "                                 'total_rooms',\n",
    "                                 'total_bedrooms',\n",
    "                                 'population',\n",
    "                                 'households',\n",
    "                                 'median_income',\n",
    "                                 'median_house_value']]"
   ]
  },
  {
   "cell_type": "code",
   "execution_count": 7,
   "id": "5f4cf994",
   "metadata": {},
   "outputs": [
    {
     "data": {
      "text/html": [
       "<div>\n",
       "<style scoped>\n",
       "    .dataframe tbody tr th:only-of-type {\n",
       "        vertical-align: middle;\n",
       "    }\n",
       "\n",
       "    .dataframe tbody tr th {\n",
       "        vertical-align: top;\n",
       "    }\n",
       "\n",
       "    .dataframe thead th {\n",
       "        text-align: right;\n",
       "    }\n",
       "</style>\n",
       "<table border=\"1\" class=\"dataframe\">\n",
       "  <thead>\n",
       "    <tr style=\"text-align: right;\">\n",
       "      <th></th>\n",
       "      <th>latitude</th>\n",
       "      <th>longitude</th>\n",
       "      <th>housing_median_age</th>\n",
       "      <th>total_rooms</th>\n",
       "      <th>total_bedrooms</th>\n",
       "      <th>population</th>\n",
       "      <th>households</th>\n",
       "      <th>median_income</th>\n",
       "      <th>median_house_value</th>\n",
       "    </tr>\n",
       "  </thead>\n",
       "  <tbody>\n",
       "    <tr>\n",
       "      <th>701</th>\n",
       "      <td>37.64</td>\n",
       "      <td>-121.97</td>\n",
       "      <td>32.0</td>\n",
       "      <td>1283.0</td>\n",
       "      <td>194.0</td>\n",
       "      <td>485.0</td>\n",
       "      <td>171.0</td>\n",
       "      <td>6.0574</td>\n",
       "      <td>431000.0</td>\n",
       "    </tr>\n",
       "    <tr>\n",
       "      <th>830</th>\n",
       "      <td>37.61</td>\n",
       "      <td>-121.99</td>\n",
       "      <td>9.0</td>\n",
       "      <td>3666.0</td>\n",
       "      <td>711.0</td>\n",
       "      <td>2341.0</td>\n",
       "      <td>703.0</td>\n",
       "      <td>4.6458</td>\n",
       "      <td>217000.0</td>\n",
       "    </tr>\n",
       "    <tr>\n",
       "      <th>859</th>\n",
       "      <td>37.57</td>\n",
       "      <td>-121.97</td>\n",
       "      <td>21.0</td>\n",
       "      <td>4342.0</td>\n",
       "      <td>783.0</td>\n",
       "      <td>2172.0</td>\n",
       "      <td>789.0</td>\n",
       "      <td>4.6146</td>\n",
       "      <td>247600.0</td>\n",
       "    </tr>\n",
       "    <tr>\n",
       "      <th>860</th>\n",
       "      <td>37.58</td>\n",
       "      <td>-121.96</td>\n",
       "      <td>15.0</td>\n",
       "      <td>3575.0</td>\n",
       "      <td>597.0</td>\n",
       "      <td>1777.0</td>\n",
       "      <td>559.0</td>\n",
       "      <td>5.7192</td>\n",
       "      <td>283500.0</td>\n",
       "    </tr>\n",
       "    <tr>\n",
       "      <th>861</th>\n",
       "      <td>37.58</td>\n",
       "      <td>-121.98</td>\n",
       "      <td>20.0</td>\n",
       "      <td>4126.0</td>\n",
       "      <td>1031.0</td>\n",
       "      <td>2079.0</td>\n",
       "      <td>975.0</td>\n",
       "      <td>3.6832</td>\n",
       "      <td>216900.0</td>\n",
       "    </tr>\n",
       "  </tbody>\n",
       "</table>\n",
       "</div>"
      ],
      "text/plain": [
       "     latitude  longitude  housing_median_age  total_rooms  total_bedrooms  \\\n",
       "701     37.64    -121.97                32.0       1283.0           194.0   \n",
       "830     37.61    -121.99                 9.0       3666.0           711.0   \n",
       "859     37.57    -121.97                21.0       4342.0           783.0   \n",
       "860     37.58    -121.96                15.0       3575.0           597.0   \n",
       "861     37.58    -121.98                20.0       4126.0          1031.0   \n",
       "\n",
       "     population  households  median_income  median_house_value  \n",
       "701       485.0       171.0         6.0574            431000.0  \n",
       "830      2341.0       703.0         4.6458            217000.0  \n",
       "859      2172.0       789.0         4.6146            247600.0  \n",
       "860      1777.0       559.0         5.7192            283500.0  \n",
       "861      2079.0       975.0         3.6832            216900.0  "
      ]
     },
     "execution_count": 7,
     "metadata": {},
     "output_type": "execute_result"
    }
   ],
   "source": [
    "filtered_data.head()"
   ]
  },
  {
   "cell_type": "markdown",
   "id": "9b5c7f13",
   "metadata": {},
   "source": [
    "### Question 1"
   ]
  },
  {
   "cell_type": "code",
   "execution_count": 8,
   "id": "31aad188",
   "metadata": {},
   "outputs": [
    {
     "data": {
      "text/plain": [
       "latitude                0\n",
       "longitude               0\n",
       "housing_median_age      0\n",
       "total_rooms             0\n",
       "total_bedrooms        157\n",
       "population              0\n",
       "households              0\n",
       "median_income           0\n",
       "median_house_value      0\n",
       "dtype: int64"
      ]
     },
     "execution_count": 8,
     "metadata": {},
     "output_type": "execute_result"
    }
   ],
   "source": [
    "filtered_data.isna().sum()"
   ]
  },
  {
   "cell_type": "markdown",
   "id": "12d03d64",
   "metadata": {},
   "source": [
    "### Question 2"
   ]
  },
  {
   "cell_type": "code",
   "execution_count": 9,
   "id": "b94115ce",
   "metadata": {},
   "outputs": [
    {
     "data": {
      "text/plain": [
       "1195.0"
      ]
     },
     "execution_count": 9,
     "metadata": {},
     "output_type": "execute_result"
    }
   ],
   "source": [
    "filtered_data['population'].median()"
   ]
  },
  {
   "cell_type": "markdown",
   "id": "eacc5dc7",
   "metadata": {},
   "source": [
    "### Prepare and split the dataset"
   ]
  },
  {
   "cell_type": "code",
   "execution_count": 10,
   "id": "517833b6",
   "metadata": {},
   "outputs": [],
   "source": [
    "np.random.seed(42)"
   ]
  },
  {
   "cell_type": "code",
   "execution_count": 11,
   "id": "b3f8cc93",
   "metadata": {},
   "outputs": [],
   "source": [
    "def split_dataset(data):\n",
    "    n = len(data)\n",
    "\n",
    "    n_train = int(n * 0.6)\n",
    "    n_val = int(n * 0.2)\n",
    "    n_test = int(n * 0.2)\n",
    "    \n",
    "    idx = np.arange(n)\n",
    "    np.random.shuffle(idx)\n",
    "    \n",
    "    data_train = data.iloc[idx[n_train:]]\n",
    "    data_val = data.iloc[idx[n_train:n_train+n_val]]\n",
    "    data_test = data.iloc[idx[n_train+n_val:]]\n",
    "    \n",
    "    return data_train, data_val, data_test"
   ]
  },
  {
   "cell_type": "code",
   "execution_count": 12,
   "id": "d1cb42b6",
   "metadata": {},
   "outputs": [],
   "source": [
    "data_train, data_val, data_test = split_dataset(filtered_data)"
   ]
  },
  {
   "cell_type": "code",
   "execution_count": 13,
   "id": "6fbac7a3",
   "metadata": {},
   "outputs": [
    {
     "data": {
      "text/plain": [
       "(6275, 3137, 3138)"
      ]
     },
     "execution_count": 13,
     "metadata": {},
     "output_type": "execute_result"
    }
   ],
   "source": [
    "len(data_train), len(data_val), len(data_test)"
   ]
  },
  {
   "cell_type": "code",
   "execution_count": 14,
   "id": "cb4c5698",
   "metadata": {},
   "outputs": [
    {
     "data": {
      "text/html": [
       "<div>\n",
       "<style scoped>\n",
       "    .dataframe tbody tr th:only-of-type {\n",
       "        vertical-align: middle;\n",
       "    }\n",
       "\n",
       "    .dataframe tbody tr th {\n",
       "        vertical-align: top;\n",
       "    }\n",
       "\n",
       "    .dataframe thead th {\n",
       "        text-align: right;\n",
       "    }\n",
       "</style>\n",
       "<table border=\"1\" class=\"dataframe\">\n",
       "  <thead>\n",
       "    <tr style=\"text-align: right;\">\n",
       "      <th></th>\n",
       "      <th>latitude</th>\n",
       "      <th>longitude</th>\n",
       "      <th>housing_median_age</th>\n",
       "      <th>total_rooms</th>\n",
       "      <th>total_bedrooms</th>\n",
       "      <th>population</th>\n",
       "      <th>households</th>\n",
       "      <th>median_income</th>\n",
       "      <th>median_house_value</th>\n",
       "    </tr>\n",
       "  </thead>\n",
       "  <tbody>\n",
       "    <tr>\n",
       "      <th>5498</th>\n",
       "      <td>34.00</td>\n",
       "      <td>-118.41</td>\n",
       "      <td>18.0</td>\n",
       "      <td>1307.0</td>\n",
       "      <td>441.0</td>\n",
       "      <td>884.0</td>\n",
       "      <td>456.0</td>\n",
       "      <td>2.9338</td>\n",
       "      <td>276300.0</td>\n",
       "    </tr>\n",
       "    <tr>\n",
       "      <th>9235</th>\n",
       "      <td>37.02</td>\n",
       "      <td>-120.09</td>\n",
       "      <td>9.0</td>\n",
       "      <td>1608.0</td>\n",
       "      <td>297.0</td>\n",
       "      <td>1057.0</td>\n",
       "      <td>295.0</td>\n",
       "      <td>3.7143</td>\n",
       "      <td>81600.0</td>\n",
       "    </tr>\n",
       "    <tr>\n",
       "      <th>11104</th>\n",
       "      <td>33.84</td>\n",
       "      <td>-117.88</td>\n",
       "      <td>34.0</td>\n",
       "      <td>1410.0</td>\n",
       "      <td>214.0</td>\n",
       "      <td>837.0</td>\n",
       "      <td>240.0</td>\n",
       "      <td>6.1168</td>\n",
       "      <td>213900.0</td>\n",
       "    </tr>\n",
       "    <tr>\n",
       "      <th>7428</th>\n",
       "      <td>33.95</td>\n",
       "      <td>-118.21</td>\n",
       "      <td>32.0</td>\n",
       "      <td>1116.0</td>\n",
       "      <td>328.0</td>\n",
       "      <td>1265.0</td>\n",
       "      <td>302.0</td>\n",
       "      <td>2.2950</td>\n",
       "      <td>155200.0</td>\n",
       "    </tr>\n",
       "    <tr>\n",
       "      <th>19928</th>\n",
       "      <td>36.32</td>\n",
       "      <td>-119.32</td>\n",
       "      <td>29.0</td>\n",
       "      <td>2409.0</td>\n",
       "      <td>436.0</td>\n",
       "      <td>1142.0</td>\n",
       "      <td>440.0</td>\n",
       "      <td>3.6895</td>\n",
       "      <td>87700.0</td>\n",
       "    </tr>\n",
       "  </tbody>\n",
       "</table>\n",
       "</div>"
      ],
      "text/plain": [
       "       latitude  longitude  housing_median_age  total_rooms  total_bedrooms  \\\n",
       "5498      34.00    -118.41                18.0       1307.0           441.0   \n",
       "9235      37.02    -120.09                 9.0       1608.0           297.0   \n",
       "11104     33.84    -117.88                34.0       1410.0           214.0   \n",
       "7428      33.95    -118.21                32.0       1116.0           328.0   \n",
       "19928     36.32    -119.32                29.0       2409.0           436.0   \n",
       "\n",
       "       population  households  median_income  median_house_value  \n",
       "5498        884.0       456.0         2.9338            276300.0  \n",
       "9235       1057.0       295.0         3.7143             81600.0  \n",
       "11104       837.0       240.0         6.1168            213900.0  \n",
       "7428       1265.0       302.0         2.2950            155200.0  \n",
       "19928      1142.0       440.0         3.6895             87700.0  "
      ]
     },
     "execution_count": 14,
     "metadata": {},
     "output_type": "execute_result"
    }
   ],
   "source": [
    "data_train.head()"
   ]
  },
  {
   "cell_type": "code",
   "execution_count": 15,
   "id": "47609b0e",
   "metadata": {},
   "outputs": [],
   "source": [
    "y_train = np.log1p(data_train['median_house_value'].values)\n",
    "y_val = np.log1p(data_val['median_house_value'].values)\n",
    "y_test = np.log1p(data_test['median_house_value'].values)"
   ]
  },
  {
   "cell_type": "code",
   "execution_count": 16,
   "id": "82cfa33f",
   "metadata": {},
   "outputs": [],
   "source": [
    "del data_train['median_house_value']\n",
    "del data_val['median_house_value']\n",
    "del data_test['median_house_value']"
   ]
  },
  {
   "cell_type": "markdown",
   "id": "78803729",
   "metadata": {},
   "source": [
    "### Question 3"
   ]
  },
  {
   "cell_type": "code",
   "execution_count": 17,
   "id": "3119b553",
   "metadata": {},
   "outputs": [],
   "source": [
    "def train_LR(X, y, r=None):\n",
    "    ones = np.ones(X.shape[0])\n",
    "    X = np.column_stack([ones, X])\n",
    "    \n",
    "    XTX = X.T.dot(X)\n",
    "    if r:\n",
    "        XTX = XTX + r * np.eye(XTX.shape[0])\n",
    "    XTX_inv = np.linalg.inv(XTX)\n",
    "    w = XTX_inv.dot(X.T).dot(y)\n",
    "    \n",
    "    return w[0], w[1:]"
   ]
  },
  {
   "cell_type": "code",
   "execution_count": 18,
   "id": "689afa7f",
   "metadata": {},
   "outputs": [],
   "source": [
    "def rmse(y, y_pred):\n",
    "    err = y - y_pred \n",
    "    se = err ** 2\n",
    "    mse = se.mean()\n",
    "    return np.sqrt(mse)"
   ]
  },
  {
   "cell_type": "code",
   "execution_count": 19,
   "id": "2cadae00",
   "metadata": {},
   "outputs": [
    {
     "data": {
      "text/plain": [
       "0.34"
      ]
     },
     "execution_count": 19,
     "metadata": {},
     "output_type": "execute_result"
    }
   ],
   "source": [
    "X_train = data_train.fillna(0).values\n",
    "X_val = data_val.fillna(0).values\n",
    "\n",
    "w0, w = train_LR(X_train, y_train)\n",
    "y_pred = w0 + X_val.dot(w)\n",
    "\n",
    "round(rmse(y_val, y_pred), 2)"
   ]
  },
  {
   "cell_type": "code",
   "execution_count": 20,
   "id": "d6646703",
   "metadata": {},
   "outputs": [
    {
     "data": {
      "text/plain": [
       "0.34"
      ]
     },
     "execution_count": 20,
     "metadata": {},
     "output_type": "execute_result"
    }
   ],
   "source": [
    "X_train = data_train.fillna(data_train.mean()).values\n",
    "X_val = data_val.fillna(data_train.mean()).values\n",
    "\n",
    "w0, w = train_LR(X_train, y_train)\n",
    "y_pred = w0 + X_val.dot(w)\n",
    "\n",
    "round(rmse(y_val, y_pred), 2)"
   ]
  },
  {
   "cell_type": "markdown",
   "id": "0b3ffd3e",
   "metadata": {},
   "source": [
    "### Question 4"
   ]
  },
  {
   "cell_type": "code",
   "execution_count": 21,
   "id": "8922e82d",
   "metadata": {},
   "outputs": [
    {
     "name": "stdout",
     "output_type": "stream",
     "text": [
      "r=0, rmse=0.34\n",
      "r=1e-06, rmse=0.34\n",
      "r=0.0001, rmse=0.34\n",
      "r=0.001, rmse=0.34\n",
      "r=0.01, rmse=0.34\n",
      "r=0.1, rmse=0.34\n",
      "r=1, rmse=0.35\n",
      "r=5, rmse=0.35\n",
      "r=10, rmse=0.35\n"
     ]
    }
   ],
   "source": [
    "R = [0, 0.000001, 0.0001, 0.001, 0.01, 0.1, 1, 5, 10]\n",
    "\n",
    "for r in R:\n",
    "    X_train = data_train.fillna(0).values\n",
    "    X_val = data_val.fillna(0).values\n",
    "\n",
    "    w0, w = train_LR(X_train, y_train, r=r)\n",
    "    y_pred = w0 + X_val.dot(w)\n",
    "\n",
    "    print(f'r={r}, rmse={round(rmse(y_val, y_pred), 2)}')"
   ]
  },
  {
   "cell_type": "markdown",
   "id": "f138022c",
   "metadata": {},
   "source": [
    "### Question 5"
   ]
  },
  {
   "cell_type": "code",
   "execution_count": 22,
   "id": "4004aca2",
   "metadata": {},
   "outputs": [],
   "source": [
    "seeds = [0, 1, 2, 3, 4, 5, 6, 7, 8, 9]\n",
    "scores = []\n",
    "for seed in seeds:\n",
    "    np.random.seed(seed)\n",
    "    data_train, data_val, data_test = split_dataset(filtered_data)\n",
    "    \n",
    "    y_train = np.log1p(data_train['median_house_value'].values)\n",
    "    y_val = np.log1p(data_val['median_house_value'].values)\n",
    "    y_test = np.log1p(data_test['median_house_value'].values)\n",
    "    \n",
    "    del data_train['median_house_value']\n",
    "    del data_val['median_house_value']\n",
    "    del data_test['median_house_value']\n",
    "    \n",
    "    X_train = data_train.fillna(0).values\n",
    "    X_val = data_val.fillna(0).values\n",
    "\n",
    "    w0, w = train_LR(X_train, y_train)\n",
    "    y_pred = w0 + X_val.dot(w)\n",
    "\n",
    "    scores.append(rmse(y_val, y_pred))"
   ]
  },
  {
   "cell_type": "code",
   "execution_count": 23,
   "id": "55c9af84",
   "metadata": {},
   "outputs": [
    {
     "data": {
      "text/plain": [
       "0.005"
      ]
     },
     "execution_count": 23,
     "metadata": {},
     "output_type": "execute_result"
    }
   ],
   "source": [
    "std = np.std(scores)\n",
    "round(std, 3)"
   ]
  },
  {
   "cell_type": "markdown",
   "id": "bc55f523",
   "metadata": {},
   "source": [
    "### Question 6"
   ]
  },
  {
   "cell_type": "code",
   "execution_count": 24,
   "id": "2af91cf4",
   "metadata": {},
   "outputs": [],
   "source": [
    "np.random.seed(9)\n",
    "data_train, data_val, data_test = split_dataset(filtered_data)\n",
    "\n",
    "y_train = np.log1p(data_train['median_house_value'].values)\n",
    "y_val = np.log1p(data_val['median_house_value'].values)\n",
    "y_test = np.log1p(data_test['median_house_value'].values)\n",
    "\n",
    "del data_train['median_house_value']\n",
    "del data_val['median_house_value']\n",
    "del data_test['median_house_value']"
   ]
  },
  {
   "cell_type": "code",
   "execution_count": 25,
   "id": "ef9f5d76",
   "metadata": {},
   "outputs": [],
   "source": [
    "X_train = pd.concat([data_train, data_val])\n",
    "y_train = np.concatenate((y_train, y_val), axis=0)"
   ]
  },
  {
   "cell_type": "code",
   "execution_count": 26,
   "id": "b2372bc9",
   "metadata": {},
   "outputs": [],
   "source": [
    "X_train = X_train.fillna(0).values\n",
    "X_test = data_test.fillna(0).values"
   ]
  },
  {
   "cell_type": "code",
   "execution_count": 27,
   "id": "36c8bf42",
   "metadata": {},
   "outputs": [
    {
     "data": {
      "text/plain": [
       "0.33"
      ]
     },
     "execution_count": 27,
     "metadata": {},
     "output_type": "execute_result"
    }
   ],
   "source": [
    "w0, w = train_LR(X_train, y_train, r=0.001)\n",
    "y_pred = w0 + X_test.dot(w)\n",
    "\n",
    "round(rmse(y_test, y_pred), 2)"
   ]
  },
  {
   "cell_type": "code",
   "execution_count": null,
   "id": "102977ed",
   "metadata": {},
   "outputs": [],
   "source": []
  }
 ],
 "metadata": {
  "kernelspec": {
   "display_name": "Python 3 (ipykernel)",
   "language": "python",
   "name": "python3"
  },
  "language_info": {
   "codemirror_mode": {
    "name": "ipython",
    "version": 3
   },
   "file_extension": ".py",
   "mimetype": "text/x-python",
   "name": "python",
   "nbconvert_exporter": "python",
   "pygments_lexer": "ipython3",
   "version": "3.11.3"
  }
 },
 "nbformat": 4,
 "nbformat_minor": 5
}
